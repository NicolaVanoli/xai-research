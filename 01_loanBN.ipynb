{
 "cells": [
  {
   "cell_type": "markdown",
   "metadata": {},
   "source": [
    "# Loan Status Bayesian Netowrk"
   ]
  },
  {
   "cell_type": "code",
   "execution_count": 1,
   "metadata": {},
   "outputs": [],
   "source": [
    "from pylab import *\n",
    "import matplotlib.pyplot as plt\n",
    "import os\n",
    "import pyAgrum as gum\n",
    "import pyAgrum.lib.notebook as gnb\n",
    "\n",
    "bn=gum.BayesNet('Loan Status')"
   ]
  },
  {
   "cell_type": "code",
   "execution_count": 2,
   "metadata": {},
   "outputs": [],
   "source": [
    "living_area = bn.add(gum.LabelizedVariable(\"Living Area\",\"c\",['Small City','Big City','Village']))\n",
    "age = bn.add(gum.LabelizedVariable(\"Age\",\"b\",['Young','Adult','Old']))\n",
    "education = bn.add(gum.LabelizedVariable(\"Education\",\"a\",[\"Middle School\", \"High School\", \"University\"]))"
   ]
  },
  {
   "cell_type": "code",
   "execution_count": 3,
   "metadata": {},
   "outputs": [],
   "source": [
    "bn.addArc(living_area,education)\n",
    "bn.addArc(age,education)"
   ]
  },
  {
   "cell_type": "code",
   "execution_count": 4,
   "metadata": {},
   "outputs": [
    {
     "data": {
      "image/svg+xml": [
       "<svg height=\"116pt\" viewBox=\"0.00 0.00 185.65 116.00\" width=\"186pt\" xmlns=\"http://www.w3.org/2000/svg\" xmlns:xlink=\"http://www.w3.org/1999/xlink\">\n",
       "<g class=\"graph\" id=\"graph0\" transform=\"scale(1 1) rotate(0) translate(4 112)\">\n",
       "<title>G</title>\n",
       "<!-- Education -->\n",
       "<g class=\"node\" id=\"node1\">\n",
       "<title>Education</title>\n",
       "<g id=\"a_node1\"><a xlink:title=\"(2) Education\">\n",
       "<ellipse cx=\"76\" cy=\"-18\" fill=\"#404040\" rx=\"47.39\" ry=\"18\" stroke=\"black\"/>\n",
       "<text fill=\"white\" font-family=\"Times New Roman,serif\" font-size=\"14.00\" text-anchor=\"middle\" x=\"76\" y=\"-14.3\">Education</text>\n",
       "</a>\n",
       "</g>\n",
       "</g>\n",
       "<!-- Age -->\n",
       "<g class=\"node\" id=\"node2\">\n",
       "<title>Age</title>\n",
       "<g id=\"a_node2\"><a xlink:title=\"(1) Age\">\n",
       "<ellipse cx=\"27\" cy=\"-90\" fill=\"#404040\" rx=\"27\" ry=\"18\" stroke=\"black\"/>\n",
       "<text fill=\"white\" font-family=\"Times New Roman,serif\" font-size=\"14.00\" text-anchor=\"middle\" x=\"27\" y=\"-86.3\">Age</text>\n",
       "</a>\n",
       "</g>\n",
       "</g>\n",
       "<!-- Age&#45;&gt;Education -->\n",
       "<g class=\"edge\" id=\"edge1\">\n",
       "<title>Age-&gt;Education</title>\n",
       "<g id=\"a_edge1\"><a xlink:title=\"(1, 2) : \">\n",
       "<path d=\"M37.87,-73.46C43.98,-64.74 51.74,-53.65 58.67,-43.76\" fill=\"none\" stroke=\"#4a4a4a\"/>\n",
       "<polygon fill=\"#4a4a4a\" points=\"61.61,-45.67 64.47,-35.47 55.87,-41.65 61.61,-45.67\" stroke=\"#4a4a4a\"/>\n",
       "</a>\n",
       "</g>\n",
       "</g>\n",
       "<!-- Living Area -->\n",
       "<g class=\"node\" id=\"node3\">\n",
       "<title>Living Area</title>\n",
       "<g id=\"a_node3\"><a xlink:title=\"(0) Living Area\">\n",
       "<ellipse cx=\"125\" cy=\"-90\" fill=\"#404040\" rx=\"52.79\" ry=\"18\" stroke=\"black\"/>\n",
       "<text fill=\"white\" font-family=\"Times New Roman,serif\" font-size=\"14.00\" text-anchor=\"middle\" x=\"125\" y=\"-86.3\">Living Area</text>\n",
       "</a>\n",
       "</g>\n",
       "</g>\n",
       "<!-- Living Area&#45;&gt;Education -->\n",
       "<g class=\"edge\" id=\"edge2\">\n",
       "<title>Living Area-&gt;Education</title>\n",
       "<g id=\"a_edge2\"><a xlink:title=\"(0, 2) : \">\n",
       "<path d=\"M113.39,-72.41C107.41,-63.87 99.99,-53.28 93.35,-43.79\" fill=\"none\" stroke=\"#4a4a4a\"/>\n",
       "<polygon fill=\"#4a4a4a\" points=\"96.13,-41.66 87.53,-35.47 90.4,-45.67 96.13,-41.66\" stroke=\"#4a4a4a\"/>\n",
       "</a>\n",
       "</g>\n",
       "</g>\n",
       "</g>\n",
       "</svg>"
      ],
      "text/plain": [
       "<IPython.core.display.SVG object>"
      ]
     },
     "metadata": {},
     "output_type": "display_data"
    }
   ],
   "source": [
    "from pyAgrum.lib.notebook import showBN, showInformation\n",
    "\n",
    "showBN(bn,size=10)"
   ]
  },
  {
   "cell_type": "code",
   "execution_count": 5,
   "metadata": {},
   "outputs": [
    {
     "data": {
      "text/html": [
       "<table style=\"border:1px solid black;\">\n",
       "<tr style='border:1px solid black;color:black;background-color:#808080'>\n",
       "      <th colspan='3'><center>Living Area</center></th></tr>\n",
       "<tr><th style='border:1px solid black;border-bottom-style: double;color:black;background-color:#BBBBBB'>\n",
       "      <center>Small City</center></th><th style='border:1px solid black;border-bottom-style: double;color:black;background-color:#BBBBBB'>\n",
       "      <center>Big City</center></th><th style='border:1px solid black;border-bottom-style: double;color:black;background-color:#BBBBBB'>\n",
       "      <center>Village</center></th></tr>\n",
       "<tr><td style='color:black;background-color:#d8a564;text-align:right;'>0.3000</td><td style='color:black;background-color:#bfbf64;text-align:right;'>0.5000</td><td style='color:black;background-color:#e59864;text-align:right;'>0.2000</td></tr>\n",
       "</table>"
      ],
      "text/plain": [
       "(gum::Potential<double>@000002A3911803B0) \n",
       "  Living Area                |\n",
       "Small Cit|Big City |Village  |\n",
       "---------|---------|---------|\n",
       " 0.3000  | 0.5000  | 0.2000  |"
      ]
     },
     "execution_count": 5,
     "metadata": {},
     "output_type": "execute_result"
    }
   ],
   "source": [
    "bn.cpt(age).fillWith([0.3333,0.3333,0.3333])\n",
    "bn.cpt(\"Living Area\").fillWith([0.3,0.5,0.2])"
   ]
  },
  {
   "cell_type": "code",
   "execution_count": 6,
   "metadata": {},
   "outputs": [],
   "source": [
    "# Education values order: Middle School--High School--University\n",
    "bn.cpt(education)[{'Age': \"Young\", 'Living Area': \"Small City\"}] = [0.4, 0.5, 0.1]\n",
    "bn.cpt(education)[{'Age': \"Young\", 'Living Area': \"Big City\"}] = [0.3,0.5,0.2]\n",
    "bn.cpt(education)[{'Age': \"Young\", 'Living Area': \"Village\"}] = [0.6, 0.3, 0.1]\n",
    "bn.cpt(education)[{'Age': \"Adult\", 'Living Area': \"Small City\"}] = [0.3, 0.5, 0.2]\n",
    "bn.cpt(education)[{'Age': \"Adult\", 'Living Area': \"Big City\"}] = [0.4, 0.5, 0.1]\n",
    "bn.cpt(education)[{'Age': \"Adult\", 'Living Area': \"Village\"}] = [0.1, 0.6, 0.3]\n",
    "bn.cpt(education)[{'Age': \"Old\", 'Living Area': \"Small City\"}] = [0.3, 0.3, 0.4]\n",
    "bn.cpt(education)[{'Age': \"Old\", 'Living Area': \"Big City\"}] = [0.4, 0.5, 0.1]\n",
    "bn.cpt(education)[{'Age': \"Old\", 'Living Area': \"Village\"}] = [0.8, 0.1, 0.1]\n"
   ]
  },
  {
   "cell_type": "code",
   "execution_count": 7,
   "metadata": {},
   "outputs": [
    {
     "data": {
      "text/html": [
       "<table style=\"border:1px solid black;\">\n",
       "<tr><th colspan='2'></th>\n",
       "      <th colspan='3' style='border:1px solid black;color:black;background-color:#808080;'><center>Education</center>\n",
       "      </th></tr>\n",
       "<tr><th style='border:1px solid black;color:black;background-color:#808080'><center>Age</center></th><th style='border:1px solid black;color:black;background-color:#808080'><center>Living Area</center></th><th style='border:1px solid black;border-bottom-style: double;color:black;background-color:#BBBBBB'>\n",
       "      <center>Middle School</center></th><th style='border:1px solid black;border-bottom-style: double;color:black;background-color:#BBBBBB'>\n",
       "      <center>High School</center></th><th style='border:1px solid black;border-bottom-style: double;color:black;background-color:#BBBBBB'>\n",
       "      <center>University</center></th></tr>\n",
       "<tr><th style='border:1px solid black;color:black;background-color:#BBBBBB;' rowspan = '3'>\n",
       "            <center>Young</center></th><th style='border:1px solid black;color:black;background-color:#BBBBBB'><center>Small City</center></th><td style='color:black;background-color:#cbb264;text-align:right;'>0.4000</td><td style='color:black;background-color:#bfbf64;text-align:right;'>0.5000</td><td style='color:black;background-color:#f28b64;text-align:right;'>0.1000</td></tr>\n",
       "<tr><th style='border:1px solid black;color:black;background-color:#BBBBBB'><center>Big City</center></th><td style='color:black;background-color:#d8a564;text-align:right;'>0.3000</td><td style='color:black;background-color:#bfbf64;text-align:right;'>0.5000</td><td style='color:black;background-color:#e59864;text-align:right;'>0.2000</td></tr>\n",
       "<tr><th style='border:1px solid black;color:black;background-color:#BBBBBB'><center>Village</center></th><td style='color:black;background-color:#b2cb64;text-align:right;'>0.6000</td><td style='color:black;background-color:#d8a564;text-align:right;'>0.3000</td><td style='color:black;background-color:#f28b64;text-align:right;'>0.1000</td></tr>\n",
       "<tr><th style='border:1px solid black;color:black;background-color:#BBBBBB;' rowspan = '3'>\n",
       "            <center>Adult</center></th><th style='border:1px solid black;color:black;background-color:#BBBBBB'><center>Small City</center></th><td style='color:black;background-color:#d8a564;text-align:right;'>0.3000</td><td style='color:black;background-color:#bfbf64;text-align:right;'>0.5000</td><td style='color:black;background-color:#e59864;text-align:right;'>0.2000</td></tr>\n",
       "<tr><th style='border:1px solid black;color:black;background-color:#BBBBBB'><center>Big City</center></th><td style='color:black;background-color:#cbb264;text-align:right;'>0.4000</td><td style='color:black;background-color:#bfbf64;text-align:right;'>0.5000</td><td style='color:black;background-color:#f28b64;text-align:right;'>0.1000</td></tr>\n",
       "<tr><th style='border:1px solid black;color:black;background-color:#BBBBBB'><center>Village</center></th><td style='color:black;background-color:#f28b64;text-align:right;'>0.1000</td><td style='color:black;background-color:#b2cb64;text-align:right;'>0.6000</td><td style='color:black;background-color:#d8a564;text-align:right;'>0.3000</td></tr>\n",
       "<tr><th style='border:1px solid black;color:black;background-color:#BBBBBB;' rowspan = '3'>\n",
       "            <center>Old</center></th><th style='border:1px solid black;color:black;background-color:#BBBBBB'><center>Small City</center></th><td style='color:black;background-color:#d8a564;text-align:right;'>0.3000</td><td style='color:black;background-color:#d8a564;text-align:right;'>0.3000</td><td style='color:black;background-color:#cbb264;text-align:right;'>0.4000</td></tr>\n",
       "<tr><th style='border:1px solid black;color:black;background-color:#BBBBBB'><center>Big City</center></th><td style='color:black;background-color:#cbb264;text-align:right;'>0.4000</td><td style='color:black;background-color:#bfbf64;text-align:right;'>0.5000</td><td style='color:black;background-color:#f28b64;text-align:right;'>0.1000</td></tr>\n",
       "<tr><th style='border:1px solid black;color:black;background-color:#BBBBBB'><center>Village</center></th><td style='color:black;background-color:#98e564;text-align:right;'>0.8000</td><td style='color:black;background-color:#f28b64;text-align:right;'>0.1000</td><td style='color:black;background-color:#f28b64;text-align:right;'>0.1000</td></tr>\n",
       "</table>"
      ],
      "text/plain": [
       "(gum::Potential<double>@000002A3911801F0) \n",
       "             ||  Education                  |\n",
       "Living|Age   ||Middle Sc|High Scho|Universit|\n",
       "------|------||---------|---------|---------|\n",
       "Small |Young || 0.4000  | 0.5000  | 0.1000  |\n",
       "Big Ci|Young || 0.3000  | 0.5000  | 0.2000  |\n",
       "Villag|Young || 0.6000  | 0.3000  | 0.1000  |\n",
       "Small |Adult || 0.3000  | 0.5000  | 0.2000  |\n",
       "Big Ci|Adult || 0.4000  | 0.5000  | 0.1000  |\n",
       "Villag|Adult || 0.1000  | 0.6000  | 0.3000  |\n",
       "Small |Old   || 0.3000  | 0.3000  | 0.4000  |\n",
       "Big Ci|Old   || 0.4000  | 0.5000  | 0.1000  |\n",
       "Villag|Old   || 0.8000  | 0.1000  | 0.1000  |"
      ]
     },
     "execution_count": 7,
     "metadata": {},
     "output_type": "execute_result"
    }
   ],
   "source": [
    "bn.cpt(education)"
   ]
  },
  {
   "cell_type": "code",
   "execution_count": 8,
   "metadata": {},
   "outputs": [
    {
     "name": "stdout",
     "output_type": "stream",
     "text": [
      "BN{nodes: 3, arcs: 2, domainSize: 27, dim: 33}\n"
     ]
    }
   ],
   "source": [
    "print(bn)"
   ]
  },
  {
   "cell_type": "code",
   "execution_count": 9,
   "metadata": {},
   "outputs": [
    {
     "data": {
      "text/plain": [
       "-460.72121741699897"
      ]
     },
     "execution_count": 9,
     "metadata": {},
     "output_type": "execute_result"
    }
   ],
   "source": [
    "gum.generateCSV(bn,\"generated_dataset.csv\",100,with_labels=True)"
   ]
  },
  {
   "cell_type": "code",
   "execution_count": 10,
   "metadata": {},
   "outputs": [],
   "source": [
    "# generator = gum.BNDatabaseGenerator(bn)"
   ]
  },
  {
   "cell_type": "code",
   "execution_count": 11,
   "metadata": {},
   "outputs": [],
   "source": [
    "gender = bn.add(gum.LabelizedVariable(\"Gender\",'d',['Male','Female']))\n",
    "income = bn.add(gum.LabelizedVariable('Income','e',['<50k','50-100k','>100k']))\n",
    "ethnicity = bn.add(gum.LabelizedVariable('Ethnicity','f',['Caucasian','Not Caucasian']))\n",
    "disc_factor = bn.add(gum.LabelizedVariable('Discriminatory Factor','g',['None','Racism','Misogyny']))\n",
    "loan_amount = bn.add(gum.LabelizedVariable('Loan Amount','h',['Small','Standard','High']))\n",
    "credit_score = bn.add(gum.LabelizedVariable('Credit Score','i',['Low','Medium','High']))\n",
    "credit_hist = bn.add(gum.LabelizedVariable('Credit History','l',['Respectful','Disrespectful']))\n",
    "econ_status = bn.add(gum.LabelizedVariable('Economic Status','m',['Growth','Crisis']))\n",
    "loan_status = bn.add(gum.LabelizedVariable('Loan Status','n',['Approved','Not Approved']))"
   ]
  },
  {
   "cell_type": "code",
   "execution_count": 12,
   "metadata": {},
   "outputs": [],
   "source": [
    "bn.addArc(age,income)\n",
    "bn.addArc(gender,disc_factor)\n",
    "bn.addArc(living_area,ethnicity)\n",
    "bn.addArc(ethnicity,disc_factor)\n",
    "bn.addArc(living_area,loan_amount)\n",
    "bn.addArc(income,loan_amount)\n",
    "bn.addArc(education,credit_score)\n",
    "bn.addArc(income,credit_score)\n",
    "bn.addArc(credit_hist,credit_score)\n",
    "bn.addArc(econ_status,loan_amount)\n",
    "bn.addArc(loan_amount,loan_status)\n",
    "bn.addArc(credit_score,loan_status)\n",
    "bn.addArc(econ_status,loan_status)\n",
    "bn.addArc(age,disc_factor)\n",
    "bn.addArc(disc_factor,loan_status)"
   ]
  },
  {
   "cell_type": "code",
   "execution_count": 13,
   "metadata": {},
   "outputs": [
    {
     "data": {
      "image/svg+xml": [
       "<svg height=\"248pt\" viewBox=\"0.00 0.00 720.00 248.05\" width=\"720pt\" xmlns=\"http://www.w3.org/2000/svg\" xmlns:xlink=\"http://www.w3.org/1999/xlink\">\n",
       "<g class=\"graph\" id=\"graph0\" transform=\"scale(0.95 0.95) rotate(0) translate(4 256)\">\n",
       "<title>G</title>\n",
       "<!-- Age -->\n",
       "<g class=\"node\" id=\"node1\">\n",
       "<title>Age</title>\n",
       "<g id=\"a_node1\"><a xlink:title=\"(1) Age\">\n",
       "<ellipse cx=\"156.88\" cy=\"-234\" fill=\"#404040\" rx=\"27\" ry=\"18\" stroke=\"black\"/>\n",
       "<text fill=\"white\" font-family=\"Times New Roman,serif\" font-size=\"14.00\" text-anchor=\"middle\" x=\"156.88\" y=\"-230.3\">Age</text>\n",
       "</a>\n",
       "</g>\n",
       "</g>\n",
       "<!-- Discriminatory Factor -->\n",
       "<g class=\"node\" id=\"node2\">\n",
       "<title>Discriminatory Factor</title>\n",
       "<g id=\"a_node2\"><a xlink:title=\"(6) Discriminatory Factor\">\n",
       "<ellipse cx=\"146.88\" cy=\"-90\" fill=\"#404040\" rx=\"90.18\" ry=\"18\" stroke=\"black\"/>\n",
       "<text fill=\"white\" font-family=\"Times New Roman,serif\" font-size=\"14.00\" text-anchor=\"middle\" x=\"146.88\" y=\"-86.3\">Discriminatory Factor</text>\n",
       "</a>\n",
       "</g>\n",
       "</g>\n",
       "<!-- Age&#45;&gt;Discriminatory Factor -->\n",
       "<g class=\"edge\" id=\"edge14\">\n",
       "<title>Age-&gt;Discriminatory Factor</title>\n",
       "<g id=\"a_edge14\"><a xlink:title=\"(1, 6) : \">\n",
       "<path d=\"M129.72,-232.29C94.64,-229.74 34.79,-219.46 6.88,-180 -2.36,-166.94 -2.21,-157.17 6.88,-144 20.52,-124.26 42.52,-111.86 65.09,-104.08\" fill=\"none\" stroke=\"#4a4a4a\"/>\n",
       "<polygon fill=\"#4a4a4a\" points=\"66.29,-107.37 74.77,-101.02 64.18,-100.7 66.29,-107.37\" stroke=\"#4a4a4a\"/>\n",
       "</a>\n",
       "</g>\n",
       "</g>\n",
       "<!-- Education -->\n",
       "<g class=\"node\" id=\"node10\">\n",
       "<title>Education</title>\n",
       "<g id=\"a_node10\"><a xlink:title=\"(2) Education\">\n",
       "<ellipse cx=\"156.88\" cy=\"-162\" fill=\"#404040\" rx=\"47.39\" ry=\"18\" stroke=\"black\"/>\n",
       "<text fill=\"white\" font-family=\"Times New Roman,serif\" font-size=\"14.00\" text-anchor=\"middle\" x=\"156.88\" y=\"-158.3\">Education</text>\n",
       "</a>\n",
       "</g>\n",
       "</g>\n",
       "<!-- Age&#45;&gt;Education -->\n",
       "<g class=\"edge\" id=\"edge1\">\n",
       "<title>Age-&gt;Education</title>\n",
       "<g id=\"a_edge1\"><a xlink:title=\"(1, 2) : \">\n",
       "<path d=\"M156.88,-215.7C156.88,-207.98 156.88,-198.71 156.88,-190.11\" fill=\"none\" stroke=\"#4a4a4a\"/>\n",
       "<polygon fill=\"#4a4a4a\" points=\"160.38,-190.1 156.88,-180.1 153.38,-190.1 160.38,-190.1\" stroke=\"#4a4a4a\"/>\n",
       "</a>\n",
       "</g>\n",
       "</g>\n",
       "<!-- Income -->\n",
       "<g class=\"node\" id=\"node12\">\n",
       "<title>Income</title>\n",
       "<g id=\"a_node12\"><a xlink:title=\"(4) Income\">\n",
       "<ellipse cx=\"506.88\" cy=\"-162\" fill=\"#404040\" rx=\"38.19\" ry=\"18\" stroke=\"black\"/>\n",
       "<text fill=\"white\" font-family=\"Times New Roman,serif\" font-size=\"14.00\" text-anchor=\"middle\" x=\"506.88\" y=\"-158.3\">Income</text>\n",
       "</a>\n",
       "</g>\n",
       "</g>\n",
       "<!-- Age&#45;&gt;Income -->\n",
       "<g class=\"edge\" id=\"edge11\">\n",
       "<title>Age-&gt;Income</title>\n",
       "<g id=\"a_edge11\"><a xlink:title=\"(1, 4) : \">\n",
       "<path d=\"M179.51,-223.54C186.86,-220.77 195.12,-217.96 202.88,-216 314.3,-187.92 347.28,-207.32 458.88,-180 462.1,-179.21 465.41,-178.29 468.71,-177.29\" fill=\"none\" stroke=\"#4a4a4a\"/>\n",
       "<polygon fill=\"#4a4a4a\" points=\"470.06,-180.53 478.49,-174.11 467.9,-173.87 470.06,-180.53\" stroke=\"#4a4a4a\"/>\n",
       "</a>\n",
       "</g>\n",
       "</g>\n",
       "<!-- Loan Status -->\n",
       "<g class=\"node\" id=\"node6\">\n",
       "<title>Loan Status</title>\n",
       "<g id=\"a_node6\"><a xlink:title=\"(11) Loan Status\">\n",
       "<ellipse cx=\"464.88\" cy=\"-18\" fill=\"#404040\" rx=\"53.89\" ry=\"18\" stroke=\"black\"/>\n",
       "<text fill=\"white\" font-family=\"Times New Roman,serif\" font-size=\"14.00\" text-anchor=\"middle\" x=\"464.88\" y=\"-14.3\">Loan Status</text>\n",
       "</a>\n",
       "</g>\n",
       "</g>\n",
       "<!-- Discriminatory Factor&#45;&gt;Loan Status -->\n",
       "<g class=\"edge\" id=\"edge6\">\n",
       "<title>Discriminatory Factor-&gt;Loan Status</title>\n",
       "<g id=\"a_edge6\"><a xlink:title=\"(6, 11) : \">\n",
       "<path d=\"M205.21,-76.16C264.07,-63.2 354.21,-43.36 411.31,-30.79\" fill=\"none\" stroke=\"#4a4a4a\"/>\n",
       "<polygon fill=\"#4a4a4a\" points=\"412.22,-34.18 421.23,-28.61 410.71,-27.34 412.22,-34.18\" stroke=\"#4a4a4a\"/>\n",
       "</a>\n",
       "</g>\n",
       "</g>\n",
       "<!-- Credit History -->\n",
       "<g class=\"node\" id=\"node3\">\n",
       "<title>Credit History</title>\n",
       "<g id=\"a_node3\"><a xlink:title=\"(9) Credit History\">\n",
       "<ellipse cx=\"387.88\" cy=\"-162\" fill=\"#404040\" rx=\"62.29\" ry=\"18\" stroke=\"black\"/>\n",
       "<text fill=\"white\" font-family=\"Times New Roman,serif\" font-size=\"14.00\" text-anchor=\"middle\" x=\"387.88\" y=\"-158.3\">Credit History</text>\n",
       "</a>\n",
       "</g>\n",
       "</g>\n",
       "<!-- Credit Score -->\n",
       "<g class=\"node\" id=\"node5\">\n",
       "<title>Credit Score</title>\n",
       "<g id=\"a_node5\"><a xlink:title=\"(8) Credit Score\">\n",
       "<ellipse cx=\"396.88\" cy=\"-90\" fill=\"#404040\" rx=\"57.39\" ry=\"18\" stroke=\"black\"/>\n",
       "<text fill=\"white\" font-family=\"Times New Roman,serif\" font-size=\"14.00\" text-anchor=\"middle\" x=\"396.88\" y=\"-86.3\">Credit Score</text>\n",
       "</a>\n",
       "</g>\n",
       "</g>\n",
       "<!-- Credit History&#45;&gt;Credit Score -->\n",
       "<g class=\"edge\" id=\"edge7\">\n",
       "<title>Credit History-&gt;Credit Score</title>\n",
       "<g id=\"a_edge7\"><a xlink:title=\"(9, 8) : \">\n",
       "<path d=\"M390.11,-143.7C391.1,-135.98 392.29,-126.71 393.4,-118.11\" fill=\"none\" stroke=\"#4a4a4a\"/>\n",
       "<polygon fill=\"#4a4a4a\" points=\"396.88,-118.47 394.68,-108.1 389.94,-117.58 396.88,-118.47\" stroke=\"#4a4a4a\"/>\n",
       "</a>\n",
       "</g>\n",
       "</g>\n",
       "<!-- Gender -->\n",
       "<g class=\"node\" id=\"node4\">\n",
       "<title>Gender</title>\n",
       "<g id=\"a_node4\"><a xlink:title=\"(3) Gender\">\n",
       "<ellipse cx=\"53.88\" cy=\"-162\" fill=\"#404040\" rx=\"37.89\" ry=\"18\" stroke=\"black\"/>\n",
       "<text fill=\"white\" font-family=\"Times New Roman,serif\" font-size=\"14.00\" text-anchor=\"middle\" x=\"53.88\" y=\"-158.3\">Gender</text>\n",
       "</a>\n",
       "</g>\n",
       "</g>\n",
       "<!-- Gender&#45;&gt;Discriminatory Factor -->\n",
       "<g class=\"edge\" id=\"edge15\">\n",
       "<title>Gender-&gt;Discriminatory Factor</title>\n",
       "<g id=\"a_edge15\"><a xlink:title=\"(3, 6) : \">\n",
       "<path d=\"M73.15,-146.5C85.7,-137.06 102.32,-124.54 116.6,-113.79\" fill=\"none\" stroke=\"#4a4a4a\"/>\n",
       "<polygon fill=\"#4a4a4a\" points=\"118.81,-116.51 124.7,-107.7 114.6,-110.92 118.81,-116.51\" stroke=\"#4a4a4a\"/>\n",
       "</a>\n",
       "</g>\n",
       "</g>\n",
       "<!-- Credit Score&#45;&gt;Loan Status -->\n",
       "<g class=\"edge\" id=\"edge8\">\n",
       "<title>Credit Score-&gt;Loan Status</title>\n",
       "<g id=\"a_edge8\"><a xlink:title=\"(8, 11) : \">\n",
       "<path d=\"M413,-72.41C421.55,-63.61 432.22,-52.63 441.65,-42.92\" fill=\"none\" stroke=\"#4a4a4a\"/>\n",
       "<polygon fill=\"#4a4a4a\" points=\"444.43,-45.08 448.88,-35.47 439.41,-40.2 444.43,-45.08\" stroke=\"#4a4a4a\"/>\n",
       "</a>\n",
       "</g>\n",
       "</g>\n",
       "<!-- Loan Amount -->\n",
       "<g class=\"node\" id=\"node7\">\n",
       "<title>Loan Amount</title>\n",
       "<g id=\"a_node7\"><a xlink:title=\"(7) Loan Amount\">\n",
       "<ellipse cx=\"556.88\" cy=\"-90\" fill=\"#404040\" rx=\"61.19\" ry=\"18\" stroke=\"black\"/>\n",
       "<text fill=\"white\" font-family=\"Times New Roman,serif\" font-size=\"14.00\" text-anchor=\"middle\" x=\"556.88\" y=\"-86.3\">Loan Amount</text>\n",
       "</a>\n",
       "</g>\n",
       "</g>\n",
       "<!-- Loan Amount&#45;&gt;Loan Status -->\n",
       "<g class=\"edge\" id=\"edge16\">\n",
       "<title>Loan Amount-&gt;Loan Status</title>\n",
       "<g id=\"a_edge16\"><a xlink:title=\"(7, 11) : \">\n",
       "<path d=\"M535.55,-72.76C523.06,-63.27 507.14,-51.15 493.57,-40.82\" fill=\"none\" stroke=\"#4a4a4a\"/>\n",
       "<polygon fill=\"#4a4a4a\" points=\"495.55,-37.94 485.47,-34.67 491.31,-43.51 495.55,-37.94\" stroke=\"#4a4a4a\"/>\n",
       "</a>\n",
       "</g>\n",
       "</g>\n",
       "<!-- Economic Status -->\n",
       "<g class=\"node\" id=\"node8\">\n",
       "<title>Economic Status</title>\n",
       "<g id=\"a_node8\"><a xlink:title=\"(10) Economic Status\">\n",
       "<ellipse cx=\"673.88\" cy=\"-162\" fill=\"#404040\" rx=\"72.59\" ry=\"18\" stroke=\"black\"/>\n",
       "<text fill=\"white\" font-family=\"Times New Roman,serif\" font-size=\"14.00\" text-anchor=\"middle\" x=\"673.88\" y=\"-158.3\">Economic Status</text>\n",
       "</a>\n",
       "</g>\n",
       "</g>\n",
       "<!-- Economic Status&#45;&gt;Loan Status -->\n",
       "<g class=\"edge\" id=\"edge3\">\n",
       "<title>Economic Status-&gt;Loan Status</title>\n",
       "<g id=\"a_edge3\"><a xlink:title=\"(10, 11) : \">\n",
       "<path d=\"M669.11,-143.75C662.71,-123.73 649.46,-91.04 626.88,-72 598.08,-47.71 557.85,-34.47 524.69,-27.3\" fill=\"none\" stroke=\"#4a4a4a\"/>\n",
       "<polygon fill=\"#4a4a4a\" points=\"525.14,-23.82 514.65,-25.26 523.75,-30.68 525.14,-23.82\" stroke=\"#4a4a4a\"/>\n",
       "</a>\n",
       "</g>\n",
       "</g>\n",
       "<!-- Economic Status&#45;&gt;Loan Amount -->\n",
       "<g class=\"edge\" id=\"edge5\">\n",
       "<title>Economic Status-&gt;Loan Amount</title>\n",
       "<g id=\"a_edge5\"><a xlink:title=\"(10, 7) : \">\n",
       "<path d=\"M647.33,-145.12C630.8,-135.22 609.35,-122.39 591.49,-111.71\" fill=\"none\" stroke=\"#4a4a4a\"/>\n",
       "<polygon fill=\"#4a4a4a\" points=\"592.9,-108.47 582.52,-106.34 589.31,-114.48 592.9,-108.47\" stroke=\"#4a4a4a\"/>\n",
       "</a>\n",
       "</g>\n",
       "</g>\n",
       "<!-- Ethnicity -->\n",
       "<g class=\"node\" id=\"node9\">\n",
       "<title>Ethnicity</title>\n",
       "<g id=\"a_node9\"><a xlink:title=\"(5) Ethnicity\">\n",
       "<ellipse cx=\"264.88\" cy=\"-162\" fill=\"#404040\" rx=\"42.49\" ry=\"18\" stroke=\"black\"/>\n",
       "<text fill=\"white\" font-family=\"Times New Roman,serif\" font-size=\"14.00\" text-anchor=\"middle\" x=\"264.88\" y=\"-158.3\">Ethnicity</text>\n",
       "</a>\n",
       "</g>\n",
       "</g>\n",
       "<!-- Ethnicity&#45;&gt;Discriminatory Factor -->\n",
       "<g class=\"edge\" id=\"edge10\">\n",
       "<title>Ethnicity-&gt;Discriminatory Factor</title>\n",
       "<g id=\"a_edge10\"><a xlink:title=\"(5, 6) : \">\n",
       "<path d=\"M241.29,-147C224.57,-137.08 201.82,-123.59 182.85,-112.34\" fill=\"none\" stroke=\"#4a4a4a\"/>\n",
       "<polygon fill=\"#4a4a4a\" points=\"184.55,-109.27 174.16,-107.18 180.97,-115.29 184.55,-109.27\" stroke=\"#4a4a4a\"/>\n",
       "</a>\n",
       "</g>\n",
       "</g>\n",
       "<!-- Education&#45;&gt;Credit Score -->\n",
       "<g class=\"edge\" id=\"edge9\">\n",
       "<title>Education-&gt;Credit Score</title>\n",
       "<g id=\"a_edge9\"><a xlink:title=\"(2, 8) : \">\n",
       "<path d=\"M193.05,-150.16C199.97,-148.11 207.15,-145.98 213.88,-144 258.55,-130.87 309.43,-116.15 346.18,-105.57\" fill=\"none\" stroke=\"#4a4a4a\"/>\n",
       "<polygon fill=\"#4a4a4a\" points=\"347.51,-108.83 356.15,-102.7 345.58,-102.1 347.51,-108.83\" stroke=\"#4a4a4a\"/>\n",
       "</a>\n",
       "</g>\n",
       "</g>\n",
       "<!-- Living Area -->\n",
       "<g class=\"node\" id=\"node11\">\n",
       "<title>Living Area</title>\n",
       "<g id=\"a_node11\"><a xlink:title=\"(0) Living Area\">\n",
       "<ellipse cx=\"264.88\" cy=\"-234\" fill=\"#404040\" rx=\"52.79\" ry=\"18\" stroke=\"black\"/>\n",
       "<text fill=\"white\" font-family=\"Times New Roman,serif\" font-size=\"14.00\" text-anchor=\"middle\" x=\"264.88\" y=\"-230.3\">Living Area</text>\n",
       "</a>\n",
       "</g>\n",
       "</g>\n",
       "<!-- Living Area&#45;&gt;Loan Amount -->\n",
       "<g class=\"edge\" id=\"edge12\">\n",
       "<title>Living Area-&gt;Loan Amount</title>\n",
       "<g id=\"a_edge12\"><a xlink:title=\"(0, 7) : \">\n",
       "<path d=\"M317,-231.02C391.75,-226.98 523.74,-214.96 553.88,-180 568.35,-163.23 567.56,-137.36 564.07,-117.82\" fill=\"none\" stroke=\"#4a4a4a\"/>\n",
       "<polygon fill=\"#4a4a4a\" points=\"567.48,-117.06 561.99,-107.99 560.63,-118.5 567.48,-117.06\" stroke=\"#4a4a4a\"/>\n",
       "</a>\n",
       "</g>\n",
       "</g>\n",
       "<!-- Living Area&#45;&gt;Ethnicity -->\n",
       "<g class=\"edge\" id=\"edge13\">\n",
       "<title>Living Area-&gt;Ethnicity</title>\n",
       "<g id=\"a_edge13\"><a xlink:title=\"(0, 5) : \">\n",
       "<path d=\"M264.88,-215.7C264.88,-207.98 264.88,-198.71 264.88,-190.11\" fill=\"none\" stroke=\"#4a4a4a\"/>\n",
       "<polygon fill=\"#4a4a4a\" points=\"268.38,-190.1 264.88,-180.1 261.38,-190.1 268.38,-190.1\" stroke=\"#4a4a4a\"/>\n",
       "</a>\n",
       "</g>\n",
       "</g>\n",
       "<!-- Living Area&#45;&gt;Education -->\n",
       "<g class=\"edge\" id=\"edge17\">\n",
       "<title>Living Area-&gt;Education</title>\n",
       "<g id=\"a_edge17\"><a xlink:title=\"(0, 2) : \">\n",
       "<path d=\"M241.45,-217.81C225.92,-207.74 205.36,-194.42 188.4,-183.42\" fill=\"none\" stroke=\"#4a4a4a\"/>\n",
       "<polygon fill=\"#4a4a4a\" points=\"190.2,-180.42 179.9,-177.92 186.39,-186.29 190.2,-180.42\" stroke=\"#4a4a4a\"/>\n",
       "</a>\n",
       "</g>\n",
       "</g>\n",
       "<!-- Income&#45;&gt;Credit Score -->\n",
       "<g class=\"edge\" id=\"edge4\">\n",
       "<title>Income-&gt;Credit Score</title>\n",
       "<g id=\"a_edge4\"><a xlink:title=\"(4, 8) : \">\n",
       "<path d=\"M484.89,-147C469.19,-137.01 447.8,-123.4 430.04,-112.1\" fill=\"none\" stroke=\"#4a4a4a\"/>\n",
       "<polygon fill=\"#4a4a4a\" points=\"431.45,-108.85 421.14,-106.43 427.69,-114.75 431.45,-108.85\" stroke=\"#4a4a4a\"/>\n",
       "</a>\n",
       "</g>\n",
       "</g>\n",
       "<!-- Income&#45;&gt;Loan Amount -->\n",
       "<g class=\"edge\" id=\"edge2\">\n",
       "<title>Income-&gt;Loan Amount</title>\n",
       "<g id=\"a_edge2\"><a xlink:title=\"(4, 7) : \">\n",
       "<path d=\"M518.48,-144.76C524.49,-136.35 531.96,-125.89 538.72,-116.44\" fill=\"none\" stroke=\"#4a4a4a\"/>\n",
       "<polygon fill=\"#4a4a4a\" points=\"541.69,-118.3 544.65,-108.12 535.99,-114.23 541.69,-118.3\" stroke=\"#4a4a4a\"/>\n",
       "</a>\n",
       "</g>\n",
       "</g>\n",
       "</g>\n",
       "</svg>"
      ],
      "text/plain": [
       "<IPython.core.display.SVG object>"
      ]
     },
     "metadata": {},
     "output_type": "display_data"
    }
   ],
   "source": [
    "from pyAgrum.lib.notebook import showBN, showInformation\n",
    "\n",
    "showBN(bn,size=10,nodeColor='black')"
   ]
  }
 ],
 "metadata": {
  "kernelspec": {
   "display_name": "Python 3",
   "language": "python",
   "name": "python3"
  },
  "language_info": {
   "codemirror_mode": {
    "name": "ipython",
    "version": 3
   },
   "file_extension": ".py",
   "mimetype": "text/x-python",
   "name": "python",
   "nbconvert_exporter": "python",
   "pygments_lexer": "ipython3",
   "version": "3.7.0"
  },
  "metadata": {
   "interpreter": {
    "hash": "cbc1630f6ac27d00c9f4ea5ff59d07a3d2920d2fb3e683b05679c37215caa53f"
   }
  }
 },
 "nbformat": 4,
 "nbformat_minor": 4
}
